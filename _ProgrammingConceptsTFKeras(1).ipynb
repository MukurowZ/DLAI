{
 "cells": [
  {
   "cell_type": "markdown",
   "metadata": {
    "colab_type": "text",
    "id": "83EfDz5M_kgj"
   },
   "source": [
    "# Basic Tensorflow and Keras \n",
    "\n",
    "- https://www.tensorflow.org/api_docs/python/tf"
   ]
  },
  {
   "cell_type": "markdown",
   "metadata": {},
   "source": [
    "## Tensorflow"
   ]
  },
  {
   "cell_type": "code",
   "execution_count": null,
   "metadata": {},
   "outputs": [],
   "source": [
    "import tensorflow as tf\n",
    "import numpy as np\n",
    "print(tf.__version__)\n",
    "print(tf.keras.__version__)"
   ]
  },
  {
   "cell_type": "code",
   "execution_count": null,
   "metadata": {},
   "outputs": [],
   "source": [
    "import matplotlib.pyplot as plt\n",
    "%matplotlib inline"
   ]
  },
  {
   "cell_type": "code",
   "execution_count": null,
   "metadata": {},
   "outputs": [],
   "source": [
    "a = tf.add(3,5)\n",
    "print(a)"
   ]
  },
  {
   "cell_type": "code",
   "execution_count": null,
   "metadata": {},
   "outputs": [],
   "source": [
    "a = tf.add(3.,5)\n",
    "print(a)"
   ]
  },
  {
   "cell_type": "code",
   "execution_count": null,
   "metadata": {},
   "outputs": [],
   "source": [
    "a = tf.add(3,5)\n",
    "print(a)\n",
    "b = tf.cast(a,tf.int16)\n",
    "print(b)\n",
    "c = tf.cast(a,tf.float32)\n",
    "print(c)"
   ]
  },
  {
   "cell_type": "code",
   "execution_count": null,
   "metadata": {},
   "outputs": [],
   "source": [
    "print(tf.add(3,4))\n",
    "print(tf.subtract(3,4))\n",
    "print(tf.multiply(3,4))"
   ]
  },
  {
   "cell_type": "code",
   "execution_count": null,
   "metadata": {},
   "outputs": [],
   "source": [
    "print(tf.add([3,4],[4,5]))\n",
    "print(tf.subtract([3,4],[4,5]))\n",
    "print(tf.multiply([3,4],[4,5]))"
   ]
  },
  {
   "cell_type": "code",
   "execution_count": null,
   "metadata": {},
   "outputs": [],
   "source": [
    "print(tf.add([[3,4]],[[4,5]]))\n",
    "print(tf.subtract([[3,4]],[[4,5]]))\n",
    "print(tf.multiply([[3,4]],[[4,5]]))"
   ]
  },
  {
   "cell_type": "code",
   "execution_count": null,
   "metadata": {},
   "outputs": [],
   "source": [
    "x1 = tf.Variable(3)\n",
    "x2 = tf.Variable(5)\n",
    "k = tf.constant(2)\n",
    "a = tf.multiply(x1,x2)\n",
    "out = tf.add(a,k)\n",
    "print(x1,x2,k,a,out)"
   ]
  },
  {
   "cell_type": "markdown",
   "metadata": {},
   "source": [
    "## Practicals"
   ]
  },
  {
   "cell_type": "code",
   "execution_count": null,
   "metadata": {},
   "outputs": [],
   "source": [
    "# Example 1\n",
    "a = tf.constant(2.0)\n",
    "b = tf.constant(-3.0)\n",
    "c = tf.constant(-1.0)\n",
    "root1 = tf.add(-b , tf.sqrt(b*b - 4*a*c))/(2*a)\n",
    "root2 = tf.add(-b , -tf.sqrt(b*b - 4*a*c))/(2*a)\n",
    "print(root1, root2)"
   ]
  },
  {
   "cell_type": "code",
   "execution_count": null,
   "metadata": {},
   "outputs": [],
   "source": [
    "# Example 2\n",
    "\n",
    "def mysigmoid(x):\n",
    "    return 1.0/(1+tf.exp(-x))\n",
    "\n",
    "x = tf.linspace(-8.,8.,30)\n",
    "y = mysigmoid(x)\n",
    "plt.plot(x,y)"
   ]
  },
  {
   "cell_type": "code",
   "execution_count": null,
   "metadata": {},
   "outputs": [],
   "source": [
    "a = tf.constant([-20, -1.0, 0.0, 1.0, 20], dtype = tf.float32)\n",
    "out = tf.keras.activations.sigmoid(a)\n",
    "out.numpy()"
   ]
  },
  {
   "cell_type": "code",
   "execution_count": null,
   "metadata": {},
   "outputs": [],
   "source": [
    "W = tf.Variable([[3.],[-2.],[1.]])\n",
    "X = tf.Variable([[-1.,1.,1.]])\n",
    "print(tf.matmul(X,W))\n",
    "print(tf.keras.activations.sigmoid(tf.matmul(X,W)))"
   ]
  },
  {
   "cell_type": "markdown",
   "metadata": {},
   "source": [
    "## Keras"
   ]
  },
  {
   "cell_type": "markdown",
   "metadata": {},
   "source": [
    "### Sequential model, and Layers"
   ]
  },
  {
   "cell_type": "code",
   "execution_count": null,
   "metadata": {},
   "outputs": [],
   "source": [
    "model = tf.keras.Sequential()\n",
    "model.add(tf.keras.layers.Dense(8, input_shape=(16,)))"
   ]
  },
  {
   "cell_type": "code",
   "execution_count": null,
   "metadata": {},
   "outputs": [],
   "source": [
    "model.summary()"
   ]
  },
  {
   "cell_type": "code",
   "execution_count": null,
   "metadata": {},
   "outputs": [],
   "source": [
    "model = tf.keras.Sequential()\n",
    "#model.add(tf.keras.Input(shape=(2,)))\n",
    "model.add(tf.keras.layers.Dense(8, input_shape=(2,)))\n",
    "model.add(tf.keras.layers.Dense(1))"
   ]
  },
  {
   "cell_type": "code",
   "execution_count": null,
   "metadata": {},
   "outputs": [],
   "source": [
    "model.summary()"
   ]
  },
  {
   "cell_type": "code",
   "execution_count": null,
   "metadata": {},
   "outputs": [],
   "source": [
    "a = np.array([[-10,0],[10,10]])\n",
    "print(a.shape)\n",
    "z = model.predict(a)\n",
    "z"
   ]
  },
  {
   "cell_type": "code",
   "execution_count": null,
   "metadata": {},
   "outputs": [],
   "source": [
    "tf.nn.tanh(z)"
   ]
  },
  {
   "cell_type": "code",
   "execution_count": null,
   "metadata": {},
   "outputs": [],
   "source": [
    "model = tf.keras.Sequential()\n",
    "model.add(tf.keras.layers.Dense(8, input_shape=(2,)))\n",
    "model.add(tf.keras.layers.Dense(1, activation='tanh'))\n",
    "model.summary()"
   ]
  },
  {
   "cell_type": "code",
   "execution_count": null,
   "metadata": {},
   "outputs": [],
   "source": [
    "model(a).numpy()"
   ]
  },
  {
   "cell_type": "markdown",
   "metadata": {},
   "source": [
    "### Loss functions"
   ]
  },
  {
   "cell_type": "code",
   "execution_count": null,
   "metadata": {},
   "outputs": [],
   "source": [
    "model.compile(optimizer='sgd', loss='mse')"
   ]
  },
  {
   "cell_type": "code",
   "execution_count": null,
   "metadata": {},
   "outputs": [],
   "source": [
    "x = [[1,0],[1,1],[0,1],[0,0]]\n",
    "#x = [[1,1]]\n",
    "model.predict(x)"
   ]
  },
  {
   "cell_type": "code",
   "execution_count": null,
   "metadata": {},
   "outputs": [],
   "source": [
    "y_true = [[0.], [1.], [0.], [0.]]\n",
    "y_pred = [[0.6], [0.4], [0.4], [0.6]]\n",
    "tf.keras.losses.mean_squared_error(y_true, y_pred)"
   ]
  },
  {
   "cell_type": "code",
   "execution_count": null,
   "metadata": {},
   "outputs": [],
   "source": [
    "tf.keras.losses.mean_squared_error([1,0,1], [0.5,0.2,0.7])"
   ]
  },
  {
   "cell_type": "code",
   "execution_count": null,
   "metadata": {},
   "outputs": [],
   "source": [
    "tf.keras.activations.softmax(tf.constant([[0.02,2.7,0.01]]))"
   ]
  },
  {
   "cell_type": "code",
   "execution_count": null,
   "metadata": {},
   "outputs": [],
   "source": [
    "tf.reduce_mean([1,2,3,4,5,6,7,8,9,10])"
   ]
  },
  {
   "cell_type": "code",
   "execution_count": null,
   "metadata": {},
   "outputs": [],
   "source": [
    "tf.reduce_mean(np.array([1,2,3,4,5,6,7,8,9,10]))"
   ]
  },
  {
   "cell_type": "code",
   "execution_count": null,
   "metadata": {},
   "outputs": [],
   "source": [
    "y_true = [[0., 1.], [0., 0.]]\n",
    "y_pred = [[0.6, 0.4], [0.4, 0.6]]\n",
    "bce = tf.keras.losses.BinaryCrossentropy()\n",
    "bce(y_true, y_pred).numpy()"
   ]
  },
  {
   "cell_type": "code",
   "execution_count": null,
   "metadata": {},
   "outputs": [],
   "source": [
    "bceloss = tf.keras.losses.binary_crossentropy(y_true, y_pred)\n",
    "bceloss.numpy()"
   ]
  },
  {
   "cell_type": "code",
   "execution_count": null,
   "metadata": {},
   "outputs": [],
   "source": [
    "cce = tf.keras.losses.CategoricalCrossentropy()\n",
    "cce(y_true, y_pred).numpy()"
   ]
  },
  {
   "cell_type": "code",
   "execution_count": null,
   "metadata": {},
   "outputs": [],
   "source": [
    "cceloss = tf.keras.losses.categorical_crossentropy(y_true, y_pred)\n",
    "cceloss.numpy()"
   ]
  },
  {
   "cell_type": "code",
   "execution_count": null,
   "metadata": {},
   "outputs": [],
   "source": [
    "mse = tf.keras.losses.MeanSquaredError()\n",
    "mse(y_true, y_pred).numpy()"
   ]
  },
  {
   "cell_type": "code",
   "execution_count": null,
   "metadata": {},
   "outputs": [],
   "source": [
    "mseloss = tf.keras.losses.mean_squared_error(y_true, y_pred)\n",
    "mseloss.numpy()"
   ]
  },
  {
   "cell_type": "code",
   "execution_count": null,
   "metadata": {},
   "outputs": [],
   "source": [
    "h = tf.keras.losses.Hinge()\n",
    "h(y_true, y_pred).numpy()"
   ]
  },
  {
   "cell_type": "code",
   "execution_count": null,
   "metadata": {},
   "outputs": [],
   "source": [
    "hloss = tf.keras.losses.hinge(y_true, y_pred)\n",
    "hloss.numpy()"
   ]
  },
  {
   "cell_type": "code",
   "execution_count": null,
   "metadata": {},
   "outputs": [],
   "source": []
  },
  {
   "cell_type": "code",
   "execution_count": null,
   "metadata": {},
   "outputs": [],
   "source": []
  },
  {
   "cell_type": "markdown",
   "metadata": {},
   "source": [
    "## Practicals"
   ]
  },
  {
   "cell_type": "markdown",
   "metadata": {
    "colab_type": "text",
    "id": "h_wIFxjrUDbg"
   },
   "source": [
    "### Example 2 Perceptron"
   ]
  },
  {
   "cell_type": "code",
   "execution_count": null,
   "metadata": {
    "colab": {
     "base_uri": "https://localhost:8080/",
     "height": 187
    },
    "colab_type": "code",
    "id": "bfvIeKLn_jod",
    "outputId": "03da46ee-bd00-49f0-923d-9369a932e9fc"
   },
   "outputs": [],
   "source": [
    "import numpy as np\n",
    "import matplotlib.pyplot as plt\n",
    "\n",
    "import tensorflow as tf\n",
    "from tensorflow.keras import layers\n",
    "from tensorflow.keras.models import Sequential\n",
    "from tensorflow.keras.layers import Dense\n",
    "\n",
    "# prepare data\n",
    "X = np.array([[1,1],[1,0],[0,1],[0,0]])\n",
    "y = np.array([1,0,0,0])\n",
    "\n",
    "# create model\n",
    "# keras.layers.Dense(units, activation=None, use_bias=True, \n",
    "#                    kernel_initializer='glorot_uniform', bias_initializer='zeros', \n",
    "#                    kernel_regularizer=None, bias_regularizer=None, \n",
    "#                    activity_regularizer=None, kernel_constraint=None, \n",
    "#                    bias_constraint=None)\n",
    "model = Sequential()\n",
    "model.add(Dense(1, activation='sigmoid',input_shape=(2,)))\n",
    "\n",
    "model.summary()"
   ]
  },
  {
   "cell_type": "code",
   "execution_count": null,
   "metadata": {
    "colab": {},
    "colab_type": "code",
    "id": "uETDsVldg075",
    "scrolled": true
   },
   "outputs": [],
   "source": [
    "# compile model\n",
    "op = tf.keras.optimizers.SGD(learning_rate=0.2, momentum=0.0)\n",
    "model.compile(loss='mse', optimizer=op, metrics=['accuracy'])\n",
    "# train model\n",
    "history = model.fit(X, y, epochs=500, batch_size=len(X), verbose=2)\n"
   ]
  },
  {
   "cell_type": "code",
   "execution_count": null,
   "metadata": {
    "colab": {},
    "colab_type": "code",
    "id": "32olsNfTScYE",
    "scrolled": true
   },
   "outputs": [],
   "source": [
    "history.history"
   ]
  },
  {
   "cell_type": "code",
   "execution_count": null,
   "metadata": {},
   "outputs": [],
   "source": [
    "plt.plot(history.history['loss'])"
   ]
  },
  {
   "cell_type": "code",
   "execution_count": null,
   "metadata": {
    "colab": {
     "base_uri": "https://localhost:8080/",
     "height": 286
    },
    "colab_type": "code",
    "id": "e_wlFnY7Svrs",
    "outputId": "966a4b40-653b-428c-d17b-17e0bb839352"
   },
   "outputs": [],
   "source": [
    "plt.plot(history.history['accuracy'])"
   ]
  },
  {
   "cell_type": "markdown",
   "metadata": {
    "colab_type": "text",
    "id": "omOwtAQ1U9nw"
   },
   "source": [
    "### Example 3 Multi-layer Perceptron"
   ]
  },
  {
   "cell_type": "code",
   "execution_count": null,
   "metadata": {
    "colab": {
     "base_uri": "https://localhost:8080/",
     "height": 221
    },
    "colab_type": "code",
    "id": "weNNlUHiVCbf",
    "outputId": "0ce4f0cd-be58-4cd5-851f-63c1cb671196"
   },
   "outputs": [],
   "source": [
    "import numpy as np\n",
    "import matplotlib.pyplot as plt\n",
    "\n",
    "import tensorflow as tf\n",
    "from tensorflow.keras import layers\n",
    "from tensorflow.keras.models import Sequential\n",
    "from tensorflow.keras.layers import Dense\n",
    "\n",
    "# prepare data\n",
    "X = np.array([[1,1],[1,0],[0,1],[0,0]])\n",
    "y = np.array([1,0,0,0])\n",
    "\n",
    "# create model\n",
    "# keras.layers.Dense(units, activation=None, use_bias=True, \n",
    "#                    kernel_initializer='glorot_uniform', bias_initializer='zeros', \n",
    "#                    kernel_regularizer=None, bias_regularizer=None, \n",
    "#                    activity_regularizer=None, kernel_constraint=None, \n",
    "#                    bias_constraint=None)\n",
    "model = Sequential()\n",
    "model.add(Dense(3, activation='sigmoid',input_dim=2))\n",
    "model.add(Dense(1,activation='sigmoid'))\n",
    "\n",
    "model.summary()"
   ]
  },
  {
   "cell_type": "code",
   "execution_count": null,
   "metadata": {
    "colab": {
     "base_uri": "https://localhost:8080/",
     "height": 1000
    },
    "colab_type": "code",
    "id": "9ncK60WiYVqI",
    "outputId": "bca5187e-6b3b-4c37-b1c8-5983065d7637"
   },
   "outputs": [],
   "source": [
    "op = tf.keras.optimizers.SGD(learning_rate=0.2, momentum=0.0)\n",
    "# compile model\n",
    "model.compile(loss='mse', optimizer=op, metrics=['accuracy'])\n",
    "# train model\n",
    "history = model.fit(X, y, epochs=1000, batch_size=len(X), verbose=2)"
   ]
  },
  {
   "cell_type": "code",
   "execution_count": null,
   "metadata": {},
   "outputs": [],
   "source": [
    "plt.plot(history.history['loss'])"
   ]
  },
  {
   "cell_type": "code",
   "execution_count": null,
   "metadata": {},
   "outputs": [],
   "source": [
    "plt.plot(history.history['accuracy'])"
   ]
  },
  {
   "cell_type": "markdown",
   "metadata": {
    "colab_type": "text",
    "id": "b4NXERHqYmV-"
   },
   "source": [
    "#### MLP with One Hot Encoding Output"
   ]
  },
  {
   "cell_type": "code",
   "execution_count": null,
   "metadata": {
    "colab": {},
    "colab_type": "code",
    "id": "c3nOapcYRL7C"
   },
   "outputs": [],
   "source": [
    "import numpy as np\n",
    "import matplotlib.pyplot as plt\n",
    "\n",
    "import tensorflow as tf\n",
    "from tensorflow.keras import layers\n",
    "from tensorflow.keras.models import Sequential\n",
    "from tensorflow.keras.layers import Dense"
   ]
  },
  {
   "cell_type": "code",
   "execution_count": null,
   "metadata": {
    "colab": {
     "base_uri": "https://localhost:8080/",
     "height": 122
    },
    "colab_type": "code",
    "id": "cYUl8WYEQ9Th",
    "outputId": "23ca6ead-7bfc-4a0b-b18d-6a698e8fd3cd"
   },
   "outputs": [],
   "source": [
    "# Prepare Iris data\n",
    "from mpl_toolkits.mplot3d import Axes3D\n",
    "from sklearn import datasets\n",
    "from sklearn.preprocessing import OneHotEncoder\n",
    "\n",
    "iris = datasets.load_iris()\n",
    "X = iris.data\n",
    "y = iris.target\n",
    "#\n",
    "ohenc = OneHotEncoder(sparse=False)\n",
    "yoh = ohenc.fit_transform(np.reshape(y,[150,1]))\n",
    "print(X.shape,y.shape,yoh.shape)"
   ]
  },
  {
   "cell_type": "code",
   "execution_count": null,
   "metadata": {
    "colab": {
     "base_uri": "https://localhost:8080/",
     "height": 221
    },
    "colab_type": "code",
    "id": "IWkYA2gDYllg",
    "outputId": "bf1e0e04-d7d2-4e53-f992-7d37ce9e42ec"
   },
   "outputs": [],
   "source": [
    "\n",
    "# create model\n",
    "# keras.layers.Dense(units, activation=None, use_bias=True, \n",
    "#                    kernel_initializer='glorot_uniform', bias_initializer='zeros', \n",
    "#                    kernel_regularizer=None, bias_regularizer=None, \n",
    "#                    activity_regularizer=None, kernel_constraint=None, \n",
    "#                    bias_constraint=None)\n",
    "model = Sequential()\n",
    "model.add(Dense(6, activation='sigmoid',input_dim=4))\n",
    "model.add(Dense(3,activation='softmax'))\n",
    "\n",
    "model.summary()"
   ]
  },
  {
   "cell_type": "code",
   "execution_count": null,
   "metadata": {
    "colab": {
     "base_uri": "https://localhost:8080/",
     "height": 1000
    },
    "colab_type": "code",
    "id": "Kwk57xzBY4Nh",
    "outputId": "9134d9ac-a43d-46d1-a766-a39485edc763"
   },
   "outputs": [],
   "source": [
    "op = tf.keras.optimizers.Adam( learning_rate=0.1 )\n",
    "# compile model\n",
    "model.compile(loss='categorical_crossentropy', optimizer='adam', metrics=['accuracy'])\n",
    "# train model\n",
    "history = model.fit(X, yoh, epochs=1000, batch_size=len(X), verbose=2)"
   ]
  },
  {
   "cell_type": "code",
   "execution_count": null,
   "metadata": {},
   "outputs": [],
   "source": [
    "plt.plot(history.history['loss'])"
   ]
  },
  {
   "cell_type": "code",
   "execution_count": null,
   "metadata": {},
   "outputs": [],
   "source": [
    "plt.plot(history.history['accuracy'])"
   ]
  },
  {
   "cell_type": "code",
   "execution_count": null,
   "metadata": {},
   "outputs": [],
   "source": []
  }
 ],
 "metadata": {
  "colab": {
   "collapsed_sections": [],
   "name": "_ProgrammingConceptsTFKeras(1)",
   "provenance": []
  },
  "kernelspec": {
   "display_name": "Python 3",
   "language": "python",
   "name": "python3"
  },
  "language_info": {
   "codemirror_mode": {
    "name": "ipython",
    "version": 3
   },
   "file_extension": ".py",
   "mimetype": "text/x-python",
   "name": "python",
   "nbconvert_exporter": "python",
   "pygments_lexer": "ipython3",
   "version": "3.7.4"
  }
 },
 "nbformat": 4,
 "nbformat_minor": 1
}
